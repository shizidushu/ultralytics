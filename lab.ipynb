{
 "cells": [
  {
   "cell_type": "markdown",
   "metadata": {},
   "source": [
    "## Convert from FP32 to FP16"
   ]
  },
  {
   "cell_type": "code",
   "execution_count": 1,
   "metadata": {},
   "outputs": [
    {
     "name": "stderr",
     "output_type": "stream",
     "text": [
      "/home/yong/miniconda3/envs/yolov8_rknn_dev/lib/python3.9/site-packages/onnxconverter_common/float16.py:53: UserWarning: the float32 number -7.986091077327728e-08 will be truncated to -1e-07\n",
      "  warnings.warn(\"the float32 number {} will be truncated to {}\".format(neg_max, -min_positive_val))\n",
      "/home/yong/miniconda3/envs/yolov8_rknn_dev/lib/python3.9/site-packages/onnxconverter_common/float16.py:43: UserWarning: the float32 number 6.076879799365997e-08 will be truncated to 1e-07\n",
      "  warnings.warn(\"the float32 number {} will be truncated to {}\".format(pos_min, min_positive_val))\n",
      "/home/yong/miniconda3/envs/yolov8_rknn_dev/lib/python3.9/site-packages/onnxconverter_common/float16.py:43: UserWarning: the float32 number 5.887704901397228e-08 will be truncated to 1e-07\n",
      "  warnings.warn(\"the float32 number {} will be truncated to {}\".format(pos_min, min_positive_val))\n"
     ]
    }
   ],
   "source": [
    "import onnx\n",
    "# pip install onnx onnxconverter-common\n",
    "from onnxconverter_common import float16\n",
    " \n",
    "model = onnx.load(\"last.onnx\")\n",
    "model_fp16 = float16.convert_float_to_float16(model)\n",
    "onnx.save(model_fp16, \"last_dynamic_fp16.onnx\")"
   ]
  },
  {
   "cell_type": "code",
   "execution_count": null,
   "metadata": {},
   "outputs": [],
   "source": []
  }
 ],
 "metadata": {
  "kernelspec": {
   "display_name": "yolov8_rknn_dev",
   "language": "python",
   "name": "python3"
  },
  "language_info": {
   "codemirror_mode": {
    "name": "ipython",
    "version": 3
   },
   "file_extension": ".py",
   "mimetype": "text/x-python",
   "name": "python",
   "nbconvert_exporter": "python",
   "pygments_lexer": "ipython3",
   "version": "3.9.19"
  }
 },
 "nbformat": 4,
 "nbformat_minor": 2
}
